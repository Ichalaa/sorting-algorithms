{
  "nbformat": 4,
  "nbformat_minor": 0,
  "metadata": {
    "colab": {
      "name": "selection-sort.ipynb",
      "provenance": [],
      "authorship_tag": "ABX9TyOcLw4JSWDilgnvUBtvcWzH",
      "include_colab_link": true
    },
    "kernelspec": {
      "name": "python3",
      "display_name": "Python 3"
    }
  },
  "cells": [
    {
      "cell_type": "markdown",
      "metadata": {
        "id": "view-in-github",
        "colab_type": "text"
      },
      "source": [
        "<a href=\"https://colab.research.google.com/github/mihany/sorting-algo/blob/master/selection_sort.ipynb\" target=\"_parent\"><img src=\"https://colab.research.google.com/assets/colab-badge.svg\" alt=\"Open In Colab\"/></a>"
      ]
    },
    {
      "cell_type": "code",
      "metadata": {
        "id": "BLj22PkgJmVk",
        "colab_type": "code",
        "colab": {
          "base_uri": "https://localhost:8080/",
          "height": 187
        },
        "outputId": "f23bb7b3-e77a-4340-e9e7-9638273a75d1"
      },
      "source": [
        "# Author: Mohamed Ibrahim Hany\n",
        "\n",
        "def selction_sort(unsortedlist):\n",
        "\n",
        "  length = len(unsortedlist)\n",
        "  print(\"List before sorting: \\t\" + str(unsortedlist))\n",
        "\n",
        "  for i in range(0, length):\n",
        "    min = unsortedlist[i]\n",
        "    for j in range(i+1, length):\n",
        "      if unsortedlist[j] < min:\n",
        "        temp = min\n",
        "        min = unsortedlist[j]\n",
        "        unsortedlist[j] = temp \n",
        "\n",
        "    unsortedlist[i] = min\n",
        "\n",
        "    print(\"List (step \" + str(i+1) +\"): \\t\\t\" + str(unsortedlist) + \" \\t elements left\" + str(unsortedlist[i:]))\n",
        "    \n",
        "  print(\"List after sorting: \\t\" + str(unsortedlist))\n",
        "\n",
        "\n",
        "mylist = [14,33,27,10,35,19,42,44]\n",
        "# mylist = [5,2,4,6,1]\n",
        "selction_sort(mylist)\n"
      ],
      "execution_count": 26,
      "outputs": [
        {
          "output_type": "stream",
          "text": [
            "List before sorting: \t[14, 33, 27, 10, 35, 19, 42, 44]\n",
            "List (step 1): \t\t[10, 33, 27, 14, 35, 19, 42, 44] \t elements left[10, 33, 27, 14, 35, 19, 42, 44]\n",
            "List (step 2): \t\t[10, 14, 33, 27, 35, 19, 42, 44] \t elements left[14, 33, 27, 35, 19, 42, 44]\n",
            "List (step 3): \t\t[10, 14, 19, 33, 35, 27, 42, 44] \t elements left[19, 33, 35, 27, 42, 44]\n",
            "List (step 4): \t\t[10, 14, 19, 27, 35, 33, 42, 44] \t elements left[27, 35, 33, 42, 44]\n",
            "List (step 5): \t\t[10, 14, 19, 27, 33, 35, 42, 44] \t elements left[33, 35, 42, 44]\n",
            "List (step 6): \t\t[10, 14, 19, 27, 33, 35, 42, 44] \t elements left[35, 42, 44]\n",
            "List (step 7): \t\t[10, 14, 19, 27, 33, 35, 42, 44] \t elements left[42, 44]\n",
            "List (step 8): \t\t[10, 14, 19, 27, 33, 35, 42, 44] \t elements left[44]\n",
            "List after sorting: \t[10, 14, 19, 27, 33, 35, 42, 44]\n"
          ],
          "name": "stdout"
        }
      ]
    }
  ]
}