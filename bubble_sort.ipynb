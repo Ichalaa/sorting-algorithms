{
  "nbformat": 4,
  "nbformat_minor": 0,
  "metadata": {
    "colab": {
      "name": "bubble-sort.ipynb",
      "provenance": [],
      "authorship_tag": "ABX9TyMAaWeOWFLdWrPLaK/VMhoc",
      "include_colab_link": true
    },
    "kernelspec": {
      "name": "python3",
      "display_name": "Python 3"
    }
  },
  "cells": [
    {
      "cell_type": "markdown",
      "metadata": {
        "id": "view-in-github",
        "colab_type": "text"
      },
      "source": [
        "<a href=\"https://colab.research.google.com/github/mihany/sorting-algo/blob/master/bubble_sort.ipynb\" target=\"_parent\"><img src=\"https://colab.research.google.com/assets/colab-badge.svg\" alt=\"Open In Colab\"/></a>"
      ]
    },
    {
      "cell_type": "code",
      "metadata": {
        "id": "BLj22PkgJmVk",
        "colab_type": "code",
        "colab": {
          "base_uri": "https://localhost:8080/",
          "height": 187
        },
        "outputId": "787804f1-ac0e-47ea-edd2-2caf411172d7"
      },
      "source": [
        "# Author: Mohamed Ibrahim Hany\n",
        "\n",
        "def bubble_sort(unsortedlist):\n",
        "\n",
        "  length = len(unsortedlist)\n",
        "  print(\"List before sorting: \\t\" + str(unsortedlist))\n",
        "\n",
        "  for i in range(0, length):\n",
        "    for j in range(0, length - i -1):\n",
        "      if unsortedlist[j+1] < unsortedlist[j]:\n",
        "        temp = unsortedlist[j+1]\n",
        "        unsortedlist[j+1] = unsortedlist[j]\n",
        "        unsortedlist[j] = temp \n",
        "\n",
        "\n",
        "    print(\"List (step \" + str(i+1) +\"): \\t\\t\" + str(unsortedlist) + \" \\t elements done\" + str(unsortedlist[:i]))\n",
        "    \n",
        "  print(\"List after sorting: \\t\" + str(unsortedlist))\n",
        "\n",
        "\n",
        "mylist = [14,33,27,10,35,19,42,44]\n",
        "bubble_sort(mylist)\n"
      ],
      "execution_count": 32,
      "outputs": [
        {
          "output_type": "stream",
          "text": [
            "List before sorting: \t[14, 33, 27, 10, 35, 19, 42, 44]\n",
            "List (step 1): \t\t[14, 27, 10, 33, 19, 35, 42, 44] \t elements done[]\n",
            "List (step 2): \t\t[14, 10, 27, 19, 33, 35, 42, 44] \t elements done[14]\n",
            "List (step 3): \t\t[10, 14, 19, 27, 33, 35, 42, 44] \t elements done[10, 14]\n",
            "List (step 4): \t\t[10, 14, 19, 27, 33, 35, 42, 44] \t elements done[10, 14, 19]\n",
            "List (step 5): \t\t[10, 14, 19, 27, 33, 35, 42, 44] \t elements done[10, 14, 19, 27]\n",
            "List (step 6): \t\t[10, 14, 19, 27, 33, 35, 42, 44] \t elements done[10, 14, 19, 27, 33]\n",
            "List (step 7): \t\t[10, 14, 19, 27, 33, 35, 42, 44] \t elements done[10, 14, 19, 27, 33, 35]\n",
            "List (step 8): \t\t[10, 14, 19, 27, 33, 35, 42, 44] \t elements done[10, 14, 19, 27, 33, 35, 42]\n",
            "List after sorting: \t[10, 14, 19, 27, 33, 35, 42, 44]\n"
          ],
          "name": "stdout"
        }
      ]
    }
  ]
}