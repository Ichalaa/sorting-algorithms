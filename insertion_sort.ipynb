{
  "nbformat": 4,
  "nbformat_minor": 0,
  "metadata": {
    "colab": {
      "name": "insertion-sort.ipynb",
      "provenance": [],
      "authorship_tag": "ABX9TyMoElDbfZAilHWEbqGsD+An",
      "include_colab_link": true
    },
    "kernelspec": {
      "name": "python3",
      "display_name": "Python 3"
    }
  },
  "cells": [
    {
      "cell_type": "markdown",
      "metadata": {
        "id": "view-in-github",
        "colab_type": "text"
      },
      "source": [
        "<a href=\"https://colab.research.google.com/github/mihany/sorting-algo/blob/master/insertion_sort.ipynb\" target=\"_parent\"><img src=\"https://colab.research.google.com/assets/colab-badge.svg\" alt=\"Open In Colab\"/></a>"
      ]
    },
    {
      "cell_type": "code",
      "metadata": {
        "id": "BLj22PkgJmVk",
        "colab_type": "code",
        "colab": {
          "base_uri": "https://localhost:8080/",
          "height": 119
        },
        "outputId": "06a5ff5e-1ac4-4ddb-918d-05e5a8d0125e"
      },
      "source": [
        "# Author: Mohamed Ibrahim Hany\n",
        "\n",
        "def insertion_sort(unsortedlist):\n",
        "  length = len(unsortedlist)\n",
        "  print(\"List before sorting: \" + str(unsortedlist))\n",
        "  for i in range(1, length):\n",
        "    temp = unsortedlist[i]\n",
        "    for j in range(i-1, -1, -1):\n",
        "      if unsortedlist[j] > temp:\n",
        "        unsortedlist[j+1] = unsortedlist[j]\n",
        "      else:\n",
        "        break\n",
        "      unsortedlist[j] = temp\n",
        "    temp = 0\n",
        "    print(\"List: \" + str(unsortedlist))\n",
        "    \n",
        "  print(\"List after sorting: \" + str(unsortedlist))\n",
        "\n",
        "\n",
        "mylist = [8,3,4,23,1]\n",
        "# mylist = [5,2,4,6,1]\n",
        "insertion_sort(mylist)\n"
      ],
      "execution_count": 102,
      "outputs": [
        {
          "output_type": "stream",
          "text": [
            "List before sorting: [8, 3, 4, 23, 1]\n",
            "List: [3, 8, 4, 23, 1]\n",
            "List: [3, 4, 8, 23, 1]\n",
            "List: [3, 4, 8, 23, 1]\n",
            "List: [1, 3, 4, 8, 23]\n",
            "List after sorting: [1, 3, 4, 8, 23]\n"
          ],
          "name": "stdout"
        }
      ]
    }
  ]
}